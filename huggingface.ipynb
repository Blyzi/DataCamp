{
 "cells": [
  {
   "cell_type": "code",
   "execution_count": 39,
   "metadata": {},
   "outputs": [
    {
     "name": "stdout",
     "output_type": "stream",
     "text": [
      "zsh:1: no matches found: datasets[vision]\n",
      "Note: you may need to restart the kernel to use updated packages.\n"
     ]
    }
   ],
   "source": [
    "%pip install datasets datasets[vision] transformers tqdm pandas torch transformers[torch] torchvision\n"
   ]
  },
  {
   "cell_type": "code",
   "execution_count": 40,
   "metadata": {},
   "outputs": [],
   "source": [
    "from datasets import load_dataset, load_metric\n",
    "from transformers import AutoImageProcessor\n",
    "from torchvision.transforms import CenterCrop, Compose, Normalize, Resize, ToTensor, RandomRotation, RandomHorizontalFlip, RandomVerticalFlip\n",
    "import numpy as np\n",
    "import torch\n"
   ]
  },
  {
   "cell_type": "code",
   "execution_count": 41,
   "metadata": {},
   "outputs": [
    {
     "name": "stderr",
     "output_type": "stream",
     "text": [
      "\n",
      "\n",
      "\n",
      "Resolving data files: 100%|██████████| 1921/1921 [00:00<00:00, 80234.79it/s]"
     ]
    },
    {
     "name": "stdout",
     "output_type": "stream",
     "text": [
      "{'image': <PIL.PngImagePlugin.PngImageFile image mode=RGB size=2144x1424 at 0x181030210>, 'Disease_Risk': 1, 'DR': 1, 'ARMD': 0, 'MH': 0, 'DN': 0, 'MYA': 0, 'BRVO': 0, 'TSLN': 0, 'ERM': 0, 'LS': 0, 'MS': 0, 'CSR': 0, 'ODC': 0, 'CRVO': 0, 'TV': 0, 'AH': 0, 'ODP': 0, 'ODE': 0, 'ST': 0, 'AION': 0, 'PT': 0, 'RT': 0, 'RS': 0, 'CRS': 0, 'EDN': 0, 'RPEC': 0, 'MHL': 0, 'RP': 0, 'CWS': 0, 'CB': 0, 'ODPM': 0, 'PRH': 0, 'MNF': 0, 'HR': 0, 'CRAO': 0, 'TD': 0, 'CME': 0, 'PTCR': 0, 'CF': 0, 'VH': 0, 'MCA': 0, 'VS': 0, 'BRAO': 0, 'PLQ': 0, 'HPED': 0, 'CL': 0}\n"
     ]
    },
    {
     "name": "stderr",
     "output_type": "stream",
     "text": [
      "\n"
     ]
    }
   ],
   "source": [
    "model_checkpoint = \"microsoft/resnet-50\"\n",
    "batch_size = 32\n",
    "\n",
    "metric = load_metric(\"accuracy\")\n",
    "\n",
    "# dataset = load_dataset(\"imagefolder\", data_files={ \"train\": \"datasets/training\", \"test\": \"datasets/test\" })\n",
    "dataset = load_dataset(\"imagefolder\", data_dir=\"./datasets/training\")\n",
    "\n",
    "print(dataset['train'][0])\n",
    "\n",
    "# dataset.features = Features({\n",
    "#     'image': Image(),\n",
    "#     'label': ClassLabel(num_classes=42, names=metadata_df.columns[1:].tolist())\n",
    "# })\n",
    "\n",
    "# def process_dicts(input_list):\n",
    "#     result = []\n",
    "#     for item in input_list:\n",
    "#         result.append({\n",
    "#             'image': item['image'],\n",
    "#             'label': [key for key, value in item.items() if key != 'image' and value == 1]\n",
    "#         })\n",
    "\n",
    "#     return result\n",
    "\n",
    "# dataset['train'].map(lambda x: print(x), batched=True)\n",
    "\n",
    "# dataset['train'] = dataset['train'].map(process_dicts, batched=True)\n",
    "\n",
    "# for i in tqdm.tqdm(range(len(dataset['train']))):\n",
    "#     dataset['train'][i] = {\n",
    "#         'image': dataset['train'][i]['image'],\n",
    "#         'label': [key for key, value in dataset['train'][i].items() if key != 'image' and value == 1]\n",
    "#     }\n",
    "\n",
    "# print(dataset['train'][0])\n",
    "# dataset['train'][0]['image']\n"
   ]
  },
  {
   "cell_type": "code",
   "execution_count": 42,
   "metadata": {},
   "outputs": [],
   "source": [
    "labels = [\"Disease_Risk\",\"DR\",\"ARMD\",\"MH\",\"DN\",\"MYA\",\"BRVO\",\"TSLN\",\"ERM\",\"LS\",\"MS\",\"CSR\",\"ODC\",\"CRVO\",\"TV\",\"AH\",\"ODP\",\"ODE\",\"ST\",\"AION\",\"PT\",\"RT\",\"RS\",\"CRS\",\"EDN\",\"RPEC\",\"MHL\",\"RP\",\"CWS\",\"CB\",\"ODPM\",\"PRH\",\"MNF\",\"HR\",\"CRAO\",\"TD\",\"CME\",\"PTCR\",\"CF\",\"VH\",\"MCA\",\"VS\",\"BRAO\",\"PLQ\",\"HPED\",\"CL\"]\n",
    "label2id, id2label = dict(), dict()\n",
    "for i, label in enumerate(labels):\n",
    "    label2id[label] = i\n",
    "    id2label[i] = label\n"
   ]
  },
  {
   "cell_type": "code",
   "execution_count": 43,
   "metadata": {},
   "outputs": [
    {
     "name": "stderr",
     "output_type": "stream",
     "text": [
      "Could not find image processor class in the image processor config or the model config. Loading based on pattern matching with the model's feature extractor configuration.\n"
     ]
    }
   ],
   "source": [
    "image_processor  = AutoImageProcessor.from_pretrained(model_checkpoint)\n",
    "\n",
    "normalize = Normalize(mean=image_processor.image_mean, std=image_processor.image_std)\n",
    "if \"shortest_edge\" in image_processor.size:\n",
    "    size = image_processor.size[\"shortest_edge\"]\n",
    "    max_size = image_processor.size.get(\"longest_edge\")\n",
    "\n",
    "train_transforms = Compose([\n",
    "    Resize(size),\n",
    "    CenterCrop((size, size)),\n",
    "    RandomRotation(360),\n",
    "    RandomHorizontalFlip(),\n",
    "    RandomVerticalFlip(),\n",
    "    ToTensor(),\n",
    "    normalize\n",
    "])\n",
    "val_transforms = Compose([Resize(size), CenterCrop((size, size)), ToTensor(), normalize])\n",
    "\n",
    "def preprocess_train(example_batch):\n",
    "    \"\"\"Apply train_transforms across a batch.\"\"\"\n",
    "    example_batch[\"pixel_values\"] = [\n",
    "        train_transforms(image.convert(\"RGB\")) for image in example_batch[\"image\"]\n",
    "    ]\n",
    "    return example_batch\n",
    "\n",
    "def preprocess_val(example_batch):\n",
    "    \"\"\"Apply val_transforms across a batch.\"\"\"\n",
    "    example_batch[\"pixel_values\"] = [val_transforms(image.convert(\"RGB\")) for image in example_batch[\"image\"]]\n",
    "    return example_batch\n"
   ]
  },
  {
   "cell_type": "code",
   "execution_count": 44,
   "metadata": {},
   "outputs": [
    {
     "name": "stdout",
     "output_type": "stream",
     "text": [
      "{'image': <PIL.PngImagePlugin.PngImageFile image mode=RGB size=2144x1424 at 0x18644A2D0>, 'Disease_Risk': 1, 'DR': 1, 'ARMD': 0, 'MH': 0, 'DN': 0, 'MYA': 0, 'BRVO': 0, 'TSLN': 0, 'ERM': 0, 'LS': 0, 'MS': 0, 'CSR': 0, 'ODC': 0, 'CRVO': 0, 'TV': 0, 'AH': 0, 'ODP': 0, 'ODE': 0, 'ST': 0, 'AION': 0, 'PT': 0, 'RT': 0, 'RS': 0, 'CRS': 0, 'EDN': 0, 'RPEC': 0, 'MHL': 0, 'RP': 0, 'CWS': 0, 'CB': 0, 'ODPM': 0, 'PRH': 0, 'MNF': 0, 'HR': 0, 'CRAO': 0, 'TD': 0, 'CME': 0, 'PTCR': 0, 'CF': 0, 'VH': 0, 'MCA': 0, 'VS': 0, 'BRAO': 0, 'PLQ': 0, 'HPED': 0, 'CL': 0, 'pixel_values': tensor([[[-0.5596]],\n",
      "\n",
      "        [[-1.2479]],\n",
      "\n",
      "        [[-1.6476]]])}\n",
      "{'image': <PIL.PngImagePlugin.PngImageFile image mode=RGB size=2144x1424 at 0x186448610>, 'Disease_Risk': 1, 'DR': 0, 'ARMD': 0, 'MH': 0, 'DN': 0, 'MYA': 0, 'BRVO': 0, 'TSLN': 0, 'ERM': 0, 'LS': 0, 'MS': 0, 'CSR': 0, 'ODC': 0, 'CRVO': 0, 'TV': 0, 'AH': 0, 'ODP': 1, 'ODE': 0, 'ST': 0, 'AION': 0, 'PT': 0, 'RT': 0, 'RS': 0, 'CRS': 0, 'EDN': 0, 'RPEC': 1, 'MHL': 0, 'RP': 0, 'CWS': 0, 'CB': 0, 'ODPM': 0, 'PRH': 0, 'MNF': 0, 'HR': 0, 'CRAO': 0, 'TD': 0, 'CME': 0, 'PTCR': 0, 'CF': 0, 'VH': 0, 'MCA': 0, 'VS': 0, 'BRAO': 0, 'PLQ': 0, 'HPED': 0, 'CL': 0, 'pixel_values': tensor([[[-0.3883]],\n",
      "\n",
      "        [[-0.9328]],\n",
      "\n",
      "        [[-1.1247]]])}\n",
      "{'image': <PIL.PngImagePlugin.PngImageFile image mode=RGB size=2144x1424 at 0x186449A90>, 'Disease_Risk': 1, 'DR': 1, 'ARMD': 0, 'MH': 0, 'DN': 0, 'MYA': 0, 'BRVO': 0, 'TSLN': 0, 'ERM': 0, 'LS': 0, 'MS': 0, 'CSR': 0, 'ODC': 0, 'CRVO': 0, 'TV': 0, 'AH': 0, 'ODP': 0, 'ODE': 0, 'ST': 0, 'AION': 0, 'PT': 0, 'RT': 0, 'RS': 0, 'CRS': 0, 'EDN': 0, 'RPEC': 0, 'MHL': 0, 'RP': 0, 'CWS': 0, 'CB': 0, 'ODPM': 0, 'PRH': 0, 'MNF': 0, 'HR': 0, 'CRAO': 0, 'TD': 0, 'CME': 0, 'PTCR': 0, 'CF': 0, 'VH': 0, 'MCA': 0, 'VS': 0, 'BRAO': 0, 'PLQ': 0, 'HPED': 0, 'CL': 0, 'pixel_values': tensor([[[-0.7650]],\n",
      "\n",
      "        [[-1.3179]],\n",
      "\n",
      "        [[-1.5953]]])}\n"
     ]
    }
   ],
   "source": [
    "splits = dataset[\"train\"].train_test_split(test_size=0.2)\n",
    "train_ds = splits['train']\n",
    "val_ds = splits['test']\n",
    "\n",
    "train_ds.set_transform(preprocess_train)\n",
    "val_ds.set_transform(preprocess_val)\n",
    "\n",
    "print(train_ds[0])\n",
    "print(train_ds[1])\n",
    "print(train_ds[2])\n",
    "# print(val_ds)\n"
   ]
  },
  {
   "cell_type": "code",
   "execution_count": 45,
   "metadata": {},
   "outputs": [
    {
     "name": "stderr",
     "output_type": "stream",
     "text": [
      "Some weights of ResNetForImageClassification were not initialized from the model checkpoint at microsoft/resnet-50 and are newly initialized because the shapes did not match:\n",
      "- classifier.1.weight: found shape torch.Size([1000, 2048]) in the checkpoint and torch.Size([46, 2048]) in the model instantiated\n",
      "- classifier.1.bias: found shape torch.Size([1000]) in the checkpoint and torch.Size([46]) in the model instantiated\n",
      "You should probably TRAIN this model on a down-stream task to be able to use it for predictions and inference.\n"
     ]
    }
   ],
   "source": [
    "from transformers import AutoModelForImageClassification, TrainingArguments, Trainer\n",
    "\n",
    "model = AutoModelForImageClassification.from_pretrained(\n",
    "    model_checkpoint,\n",
    "    label2id=label2id,\n",
    "    id2label=id2label,\n",
    "    ignore_mismatched_sizes = True, # provide this in case you're planning to fine-tune an already fine-tuned checkpoint\n",
    ")\n",
    "model.config.problem_type = \"multi_label_classification\"\n"
   ]
  },
  {
   "cell_type": "code",
   "execution_count": 50,
   "metadata": {},
   "outputs": [],
   "source": [
    "model_name = model_checkpoint.split(\"/\")[-1]\n",
    "\n",
    "args = TrainingArguments(\n",
    "    f\"{model_name}-finetuned-eye-disease\",\n",
    "    remove_unused_columns=False,\n",
    "    evaluation_strategy = \"epoch\",\n",
    "    save_strategy = \"epoch\",\n",
    "    learning_rate=5e-5,\n",
    "    per_device_train_batch_size=batch_size,\n",
    "    gradient_accumulation_steps=4,\n",
    "    per_device_eval_batch_size=batch_size,\n",
    "    num_train_epochs=3,\n",
    "    warmup_ratio=0.1,\n",
    "    logging_steps=10,\n",
    "    load_best_model_at_end=True,\n",
    "    metric_for_best_model=\"accuracy\",\n",
    "    push_to_hub=False,\n",
    ")\n",
    "\n",
    "# the compute_metrics function takes a Named Tuple as input:\n",
    "# predictions, which are the logits of the model as Numpy arrays,\n",
    "# and label_ids, which are the ground-truth labels as Numpy arrays.\n",
    "def compute_metrics(eval_pred):\n",
    "    \"\"\"Computes accuracy on a batch of predictions\"\"\"\n",
    "    predictions = np.argmax(eval_pred.predictions, axis=1)\n",
    "    references = np.argmax(eval_pred.label_ids, axis=1)\n",
    "    return metric.compute(predictions=predictions, references=references)\n"
   ]
  },
  {
   "cell_type": "code",
   "execution_count": 51,
   "metadata": {},
   "outputs": [],
   "source": [
    "import torch\n",
    "\n",
    "def collate_fn(examples):\n",
    "    pixel_values = torch.stack([example[\"pixel_values\"] for example in examples])\n",
    "    expl_labels = torch.tensor([[float(example[label]) for label in labels] for example in examples])\n",
    "    return {\"pixel_values\": pixel_values, \"labels\": expl_labels}\n"
   ]
  },
  {
   "cell_type": "code",
   "execution_count": 52,
   "metadata": {},
   "outputs": [],
   "source": [
    "trainer = Trainer(\n",
    "    model,\n",
    "    args,\n",
    "    train_dataset=train_ds,\n",
    "    eval_dataset=val_ds,\n",
    "    tokenizer=image_processor,\n",
    "    compute_metrics=compute_metrics,\n",
    "    data_collator=collate_fn,\n",
    ")\n"
   ]
  },
  {
   "cell_type": "code",
   "execution_count": 53,
   "metadata": {},
   "outputs": [
    {
     "name": "stderr",
     "output_type": "stream",
     "text": [
      " 33%|███▎      | 12/36 [19:15<38:30, 96.26s/it]\n",
      "\n",
      "\n",
      "\u001b[A\u001b[A\n",
      "\u001b[A\n",
      "\u001b[A\n",
      "\u001b[A\n",
      "\u001b[A\n",
      "\u001b[A\n",
      "\u001b[A\n",
      "\u001b[A\n",
      "\u001b[A\n",
      "\u001b[A\n",
      "\u001b[A\n",
      "\u001b[A\n",
      "                                               \n",
      "\n",
      " 33%|███▎      | 12/36 [10:00<07:54, 19.76s/it]\n",
      "\u001b[A"
     ]
    },
    {
     "name": "stdout",
     "output_type": "stream",
     "text": [
      "{'loss': 0.6802, 'learning_rate': 4.0625000000000005e-05, 'epoch': 0.83}\n"
     ]
    },
    {
     "name": "stderr",
     "output_type": "stream",
     "text": [
      "\n",
      "\u001b[A\n",
      "\u001b[A\n",
      "\n",
      "\u001b[A\u001b[A\n",
      "\n",
      "\u001b[A\u001b[A\n",
      "\n",
      "\u001b[A\u001b[A\n",
      "\n",
      "\u001b[A\u001b[A\n",
      "\n",
      "\u001b[A\u001b[A\n",
      "\n",
      "\u001b[A\u001b[A\n",
      "\n",
      "\u001b[A\u001b[A\n",
      "\n",
      "\u001b[A\u001b[A\n",
      "\n",
      "\u001b[A\u001b[A\n",
      "\n",
      "\u001b[A\u001b[A\n",
      "\n",
      "\u001b[A\u001b[A\n",
      "\n",
      "\u001b[A\u001b[A\n",
      "\u001b[A                                            \n",
      "\n",
      "\n",
      "                                               \n",
      "\n",
      "\u001b[A\u001b[A                                         \n",
      "\n",
      " 33%|███▎      | 12/36 [12:44<07:54, 19.76s/it]\n",
      "\u001b[A\n",
      "\n",
      "\u001b[A\u001b[A"
     ]
    },
    {
     "name": "stdout",
     "output_type": "stream",
     "text": [
      "{'eval_loss': 0.8625258803367615, 'eval_accuracy': 0.1484375, 'eval_runtime': 112.9112, 'eval_samples_per_second': 3.401, 'eval_steps_per_second': 0.106, 'epoch': 1.0}\n"
     ]
    },
    {
     "name": "stderr",
     "output_type": "stream",
     "text": [
      "\n",
      "\u001b[A\n",
      "\u001b[A\n",
      "\u001b[A\n",
      "\u001b[A\n",
      "\u001b[A\n",
      "\u001b[A\n",
      "\u001b[A\n",
      "\u001b[A\n",
      "                                               \n",
      "\n",
      " 33%|███▎      | 12/36 [16:43<07:54, 19.76s/it]\n",
      "\u001b[A"
     ]
    },
    {
     "name": "stdout",
     "output_type": "stream",
     "text": [
      "{'loss': 0.6697, 'learning_rate': 2.5e-05, 'epoch': 1.67}\n"
     ]
    },
    {
     "name": "stderr",
     "output_type": "stream",
     "text": [
      "\n",
      "\u001b[A\n",
      "\u001b[A\n",
      "\u001b[A\n",
      "\u001b[A\n",
      "\n",
      "\u001b[A\u001b[A\n",
      "\n",
      "\u001b[A\u001b[A\n",
      "\n",
      "\u001b[A\u001b[A\n",
      "\n",
      "\u001b[A\u001b[A\n",
      "\n",
      "\u001b[A\u001b[A\n",
      "\n",
      "\u001b[A\u001b[A\n",
      "\n",
      "\u001b[A\u001b[A\n",
      "\n",
      "\u001b[A\u001b[A\n",
      "\n",
      "\u001b[A\u001b[A\n",
      "\n",
      "\u001b[A\u001b[A\n",
      "\n",
      "\u001b[A\u001b[A\n",
      "\n",
      "\u001b[A\u001b[A\n",
      "\u001b[A                                            \n",
      "\n",
      "\n",
      "                                               \n",
      "\n",
      "\u001b[A\u001b[A                                         \n",
      "\n",
      " 33%|███▎      | 12/36 [19:58<07:54, 19.76s/it]\n",
      "\u001b[A\n",
      "\n",
      "\u001b[A\u001b[A"
     ]
    },
    {
     "name": "stdout",
     "output_type": "stream",
     "text": [
      "{'eval_loss': 3.336759567260742, 'eval_accuracy': 0.1796875, 'eval_runtime': 81.5869, 'eval_samples_per_second': 4.707, 'eval_steps_per_second': 0.147, 'epoch': 2.0}\n"
     ]
    },
    {
     "name": "stderr",
     "output_type": "stream",
     "text": [
      "\n",
      "\u001b[A\n",
      "\u001b[A\n",
      "\u001b[A\n",
      "\u001b[A\n",
      "\u001b[A\n",
      "\u001b[A\n",
      "                                               \n",
      "\n",
      " 33%|███▎      | 12/36 [23:06<07:54, 19.76s/it]\n",
      "\u001b[A"
     ]
    },
    {
     "name": "stdout",
     "output_type": "stream",
     "text": [
      "{'loss': 0.6642, 'learning_rate': 9.375000000000001e-06, 'epoch': 2.5}\n"
     ]
    },
    {
     "name": "stderr",
     "output_type": "stream",
     "text": [
      "\n",
      "\u001b[A\n",
      "\u001b[A\n",
      "\u001b[A\n",
      "\u001b[A\n",
      "\u001b[A\n",
      "\u001b[A\n",
      "\n",
      "\u001b[A\u001b[A\n",
      "\n",
      "\u001b[A\u001b[A\n",
      "\n",
      "\u001b[A\u001b[A\n",
      "\n",
      "\u001b[A\u001b[A\n",
      "\n",
      "\u001b[A\u001b[A\n",
      "\n",
      "\u001b[A\u001b[A\n",
      "\n",
      "\u001b[A\u001b[A\n",
      "\n",
      "\u001b[A\u001b[A\n",
      "\n",
      "\u001b[A\u001b[A\n",
      "\n",
      "\u001b[A\u001b[A\n",
      "\n",
      "\u001b[A\u001b[A\n",
      "\n",
      "\u001b[A\u001b[A\n",
      "\u001b[A                                            \n",
      "\n",
      "\n",
      "                                               \n",
      "\n",
      "\u001b[A\u001b[A                                         \n",
      "\n",
      " 33%|███▎      | 12/36 [27:18<07:54, 19.76s/it]\n",
      "\u001b[A\n",
      "\n",
      "\u001b[A\u001b[A"
     ]
    },
    {
     "name": "stdout",
     "output_type": "stream",
     "text": [
      "{'eval_loss': 2.1224300861358643, 'eval_accuracy': 0.23958333333333334, 'eval_runtime': 81.8431, 'eval_samples_per_second': 4.692, 'eval_steps_per_second': 0.147, 'epoch': 3.0}\n"
     ]
    },
    {
     "name": "stderr",
     "output_type": "stream",
     "text": [
      "\n",
      "                                               \n",
      "\n",
      " 33%|███▎      | 12/36 [27:19<07:54, 19.76s/it]\n",
      "100%|██████████| 36/36 [21:12<00:00, 35.36s/it]\n"
     ]
    },
    {
     "name": "stdout",
     "output_type": "stream",
     "text": [
      "{'train_runtime': 1272.8012, 'train_samples_per_second': 3.62, 'train_steps_per_second': 0.028, 'train_loss': 0.669706854555342, 'epoch': 3.0}\n",
      "***** train metrics *****\n",
      "  epoch                    =        3.0\n",
      "  train_loss               =     0.6697\n",
      "  train_runtime            = 0:21:12.80\n",
      "  train_samples_per_second =       3.62\n",
      "  train_steps_per_second   =      0.028\n"
     ]
    }
   ],
   "source": [
    "train_results = trainer.train()\n",
    "# rest is optional but nice to have\n",
    "trainer.save_model()\n",
    "trainer.log_metrics(\"train\", train_results.metrics)\n",
    "trainer.save_metrics(\"train\", train_results.metrics)\n",
    "trainer.save_state()\n"
   ]
  },
  {
   "cell_type": "code",
   "execution_count": null,
   "metadata": {},
   "outputs": [],
   "source": []
  }
 ],
 "metadata": {
  "kernelspec": {
   "display_name": "Python 3",
   "language": "python",
   "name": "python3"
  },
  "language_info": {
   "codemirror_mode": {
    "name": "ipython",
    "version": 3
   },
   "file_extension": ".py",
   "mimetype": "text/x-python",
   "name": "python",
   "nbconvert_exporter": "python",
   "pygments_lexer": "ipython3",
   "version": "3.11.5"
  }
 },
 "nbformat": 4,
 "nbformat_minor": 2
}
